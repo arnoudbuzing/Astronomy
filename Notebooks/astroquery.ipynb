{
 "cells": [
  {
   "cell_type": "code",
   "execution_count": 1,
   "metadata": {},
   "outputs": [
    {
     "name": "stdout",
     "output_type": "stream",
     "text": [
      "Defaulting to user installation because normal site-packages is not writeable\n",
      "Collecting astropy\n",
      "  Downloading astropy-6.0.0-cp39-cp39-macosx_11_0_arm64.whl (6.4 MB)\n",
      "\u001b[K     |████████████████████████████████| 6.4 MB 2.4 MB/s eta 0:00:01\n",
      "\u001b[?25hCollecting numpy<2,>=1.22\n",
      "  Downloading numpy-1.26.3-cp39-cp39-macosx_11_0_arm64.whl (14.0 MB)\n",
      "\u001b[K     |████████████████████████████████| 14.0 MB 35.9 MB/s eta 0:00:01\n",
      "\u001b[?25hCollecting pyerfa>=2.0\n",
      "  Using cached pyerfa-2.0.1.1-cp39-abi3-macosx_11_0_arm64.whl (334 kB)\n",
      "Collecting PyYAML>=3.13\n",
      "  Downloading PyYAML-6.0.1-cp39-cp39-macosx_11_0_arm64.whl (174 kB)\n",
      "\u001b[K     |████████████████████████████████| 174 kB 51.8 MB/s eta 0:00:01\n",
      "\u001b[?25hRequirement already satisfied: packaging>=19.0 in /Users/arnoudb/Library/Python/3.9/lib/python/site-packages (from astropy) (23.2)\n",
      "Collecting astropy-iers-data>=0.2023.10.30.0.29.53\n",
      "  Using cached astropy_iers_data-0.2024.1.22.0.30.30-py3-none-any.whl (1.9 MB)\n",
      "Installing collected packages: numpy, PyYAML, pyerfa, astropy-iers-data, astropy\n",
      "Successfully installed PyYAML-6.0.1 astropy-6.0.0 astropy-iers-data-0.2024.1.22.0.30.30 numpy-1.26.3 pyerfa-2.0.1.1\n",
      "\u001b[33mWARNING: You are using pip version 21.2.4; however, version 23.3.2 is available.\n",
      "You should consider upgrading via the '/Applications/Xcode.app/Contents/Developer/usr/bin/python3 -m pip install --upgrade pip' command.\u001b[0m\n",
      "Note: you may need to restart the kernel to use updated packages.\n"
     ]
    }
   ],
   "source": [
    "pip install astropy"
   ]
  },
  {
   "cell_type": "code",
   "execution_count": 2,
   "metadata": {},
   "outputs": [
    {
     "name": "stdout",
     "output_type": "stream",
     "text": [
      "Defaulting to user installation because normal site-packages is not writeable\n",
      "Collecting astroquery\n",
      "  Using cached astroquery-0.4.6-py3-none-any.whl (4.5 MB)\n",
      "Requirement already satisfied: numpy>=1.16 in /Users/arnoudb/Library/Python/3.9/lib/python/site-packages (from astroquery) (1.26.3)\n",
      "Collecting keyring>=4.0\n",
      "  Using cached keyring-24.3.0-py3-none-any.whl (38 kB)\n",
      "Collecting requests>=2.4.3\n",
      "  Using cached requests-2.31.0-py3-none-any.whl (62 kB)\n",
      "Requirement already satisfied: astropy>=4.0 in /Users/arnoudb/Library/Python/3.9/lib/python/site-packages (from astroquery) (6.0.0)\n",
      "Collecting html5lib>=0.999\n",
      "  Using cached html5lib-1.1-py2.py3-none-any.whl (112 kB)\n",
      "Collecting pyvo>=1.1\n",
      "  Using cached pyvo-1.5-py3-none-any.whl (909 kB)\n",
      "Collecting beautifulsoup4>=4.3.2\n",
      "  Using cached beautifulsoup4-4.12.3-py3-none-any.whl (147 kB)\n",
      "Requirement already satisfied: PyYAML>=3.13 in /Users/arnoudb/Library/Python/3.9/lib/python/site-packages (from astropy>=4.0->astroquery) (6.0.1)\n",
      "Requirement already satisfied: packaging>=19.0 in /Users/arnoudb/Library/Python/3.9/lib/python/site-packages (from astropy>=4.0->astroquery) (23.2)\n",
      "Requirement already satisfied: pyerfa>=2.0 in /Users/arnoudb/Library/Python/3.9/lib/python/site-packages (from astropy>=4.0->astroquery) (2.0.1.1)\n",
      "Requirement already satisfied: astropy-iers-data>=0.2023.10.30.0.29.53 in /Users/arnoudb/Library/Python/3.9/lib/python/site-packages (from astropy>=4.0->astroquery) (0.2024.1.22.0.30.30)\n",
      "Collecting soupsieve>1.2\n",
      "  Using cached soupsieve-2.5-py3-none-any.whl (36 kB)\n",
      "Collecting webencodings\n",
      "  Using cached webencodings-0.5.1-py2.py3-none-any.whl (11 kB)\n",
      "Requirement already satisfied: six>=1.9 in /Applications/Xcode.app/Contents/Developer/Library/Frameworks/Python3.framework/Versions/3.9/lib/python3.9/site-packages (from html5lib>=0.999->astroquery) (1.15.0)\n",
      "Collecting jaraco.classes\n",
      "  Using cached jaraco.classes-3.3.0-py3-none-any.whl (5.9 kB)\n",
      "Requirement already satisfied: importlib-metadata>=4.11.4 in /Users/arnoudb/Library/Python/3.9/lib/python/site-packages (from keyring>=4.0->astroquery) (7.0.1)\n",
      "Requirement already satisfied: zipp>=0.5 in /Users/arnoudb/Library/Python/3.9/lib/python/site-packages (from importlib-metadata>=4.11.4->keyring>=4.0->astroquery) (3.17.0)\n",
      "Collecting idna<4,>=2.5\n",
      "  Downloading idna-3.6-py3-none-any.whl (61 kB)\n",
      "\u001b[K     |████████████████████████████████| 61 kB 489 kB/s eta 0:00:011\n",
      "\u001b[?25hCollecting charset-normalizer<4,>=2\n",
      "  Downloading charset_normalizer-3.3.2-cp39-cp39-macosx_11_0_arm64.whl (120 kB)\n",
      "\u001b[K     |████████████████████████████████| 120 kB 4.6 MB/s eta 0:00:01\n",
      "\u001b[?25hCollecting urllib3<3,>=1.21.1\n",
      "  Using cached urllib3-2.1.0-py3-none-any.whl (104 kB)\n",
      "Collecting certifi>=2017.4.17\n",
      "  Downloading certifi-2023.11.17-py3-none-any.whl (162 kB)\n",
      "\u001b[K     |████████████████████████████████| 162 kB 18.2 MB/s eta 0:00:01\n",
      "\u001b[?25hCollecting more-itertools\n",
      "  Using cached more_itertools-10.2.0-py3-none-any.whl (57 kB)\n",
      "Installing collected packages: urllib3, more-itertools, idna, charset-normalizer, certifi, webencodings, soupsieve, requests, jaraco.classes, pyvo, keyring, html5lib, beautifulsoup4, astroquery\n",
      "Successfully installed astroquery-0.4.6 beautifulsoup4-4.12.3 certifi-2023.11.17 charset-normalizer-3.3.2 html5lib-1.1 idna-3.6 jaraco.classes-3.3.0 keyring-24.3.0 more-itertools-10.2.0 pyvo-1.5 requests-2.31.0 soupsieve-2.5 urllib3-2.1.0 webencodings-0.5.1\n",
      "\u001b[33mWARNING: You are using pip version 21.2.4; however, version 23.3.2 is available.\n",
      "You should consider upgrading via the '/Applications/Xcode.app/Contents/Developer/usr/bin/python3 -m pip install --upgrade pip' command.\u001b[0m\n",
      "Note: you may need to restart the kernel to use updated packages.\n"
     ]
    }
   ],
   "source": [
    "pip install astroquery"
   ]
  },
  {
   "cell_type": "code",
   "execution_count": 3,
   "metadata": {},
   "outputs": [
    {
     "name": "stderr",
     "output_type": "stream",
     "text": [
      "/Users/arnoudb/Library/Python/3.9/lib/python/site-packages/urllib3/__init__.py:34: NotOpenSSLWarning: urllib3 v2 only supports OpenSSL 1.1.1+, currently the 'ssl' module is compiled with 'LibreSSL 2.8.3'. See: https://github.com/urllib3/urllib3/issues/3020\n",
      "  warnings.warn(\n"
     ]
    }
   ],
   "source": [
    "from astroquery.skyview import SkyView"
   ]
  },
  {
   "cell_type": "code",
   "execution_count": null,
   "metadata": {},
   "outputs": [],
   "source": []
  }
 ],
 "metadata": {
  "kernelspec": {
   "display_name": "Python 3",
   "language": "python",
   "name": "python3"
  },
  "language_info": {
   "codemirror_mode": {
    "name": "ipython",
    "version": 3
   },
   "file_extension": ".py",
   "mimetype": "text/x-python",
   "name": "python",
   "nbconvert_exporter": "python",
   "pygments_lexer": "ipython3",
   "version": "3.9.6"
  }
 },
 "nbformat": 4,
 "nbformat_minor": 2
}
